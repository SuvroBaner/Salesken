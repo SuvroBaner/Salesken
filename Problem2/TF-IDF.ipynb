{
 "cells": [
  {
   "cell_type": "code",
   "execution_count": null,
   "metadata": {},
   "outputs": [],
   "source": []
  },
  {
   "cell_type": "code",
   "execution_count": 42,
   "metadata": {},
   "outputs": [],
   "source": [
    "from sklearn.feature_extraction.text import TfidfVectorizer\n",
    "from sklearn.metrics.pairwise import cosine_similarity\n",
    "import numpy as np"
   ]
  },
  {
   "cell_type": "code",
   "execution_count": 23,
   "metadata": {},
   "outputs": [],
   "source": [
    "with open('../list_of_sentences', 'r+') as f:\n",
    "    documents = f.readlines()"
   ]
  },
  {
   "cell_type": "code",
   "execution_count": 29,
   "metadata": {},
   "outputs": [],
   "source": [
    "for i in range(len(documents)):\n",
    "    documents[i] = documents[i][:-1]"
   ]
  },
  {
   "cell_type": "code",
   "execution_count": 30,
   "metadata": {},
   "outputs": [
    {
     "data": {
      "text/plain": [
       "['good morning',\n",
       " 'how are you doing ?',\n",
       " 'the weather is awesome today',\n",
       " 'samsung',\n",
       " 'good afternoon',\n",
       " 'baseball is played in the USA',\n",
       " 'there is a thunderstorm ',\n",
       " 'are you doing good ?',\n",
       " 'The polar regions are melting\"',\n",
       " 'apple',\n",
       " 'nokia',\n",
       " 'cricket is a fun game',\n",
       " 'the climate change is a problem']"
      ]
     },
     "execution_count": 30,
     "metadata": {},
     "output_type": "execute_result"
    }
   ],
   "source": [
    "documents"
   ]
  },
  {
   "cell_type": "code",
   "execution_count": 34,
   "metadata": {},
   "outputs": [
    {
     "data": {
      "text/plain": [
       "13"
      ]
     },
     "execution_count": 34,
     "metadata": {},
     "output_type": "execute_result"
    }
   ],
   "source": [
    "len(documents)"
   ]
  },
  {
   "cell_type": "code",
   "execution_count": 32,
   "metadata": {},
   "outputs": [],
   "source": [
    "tf_idf = TfidfVectorizer()\n",
    "tf_idf_matrix = tf_idf.fit_transform(documents)"
   ]
  },
  {
   "cell_type": "code",
   "execution_count": 33,
   "metadata": {},
   "outputs": [
    {
     "data": {
      "text/plain": [
       "(13, 30)"
      ]
     },
     "execution_count": 33,
     "metadata": {},
     "output_type": "execute_result"
    }
   ],
   "source": [
    "tf_idf_matrix.shape"
   ]
  },
  {
   "cell_type": "code",
   "execution_count": 46,
   "metadata": {},
   "outputs": [],
   "source": [
    "sim1 = cosine_similarity(tf_idf_matrix[0:1], tf_idf_matrix[1:])"
   ]
  },
  {
   "cell_type": "code",
   "execution_count": 47,
   "metadata": {},
   "outputs": [
    {
     "data": {
      "text/plain": [
       "array([[0.        , 0.        , 0.        , 0.36899732, 0.        ,\n",
       "        0.        , 0.2849837 , 0.        , 0.        , 0.        ,\n",
       "        0.        , 0.        ]])"
      ]
     },
     "execution_count": 47,
     "metadata": {},
     "output_type": "execute_result"
    }
   ],
   "source": [
    "sim1"
   ]
  },
  {
   "cell_type": "code",
   "execution_count": 50,
   "metadata": {},
   "outputs": [
    {
     "data": {
      "text/plain": [
       "3"
      ]
     },
     "execution_count": 50,
     "metadata": {},
     "output_type": "execute_result"
    }
   ],
   "source": [
    "np.argmax(sim1)"
   ]
  },
  {
   "cell_type": "code",
   "execution_count": 66,
   "metadata": {},
   "outputs": [
    {
     "data": {
      "text/plain": [
       "array([[0, 3],\n",
       "       [0, 6]])"
      ]
     },
     "execution_count": 66,
     "metadata": {},
     "output_type": "execute_result"
    }
   ],
   "source": [
    "np.argwhere(np.logical_and(sim1>0, sim1<1))"
   ]
  },
  {
   "cell_type": "code",
   "execution_count": 63,
   "metadata": {},
   "outputs": [],
   "source": [
    "def find_similar(documents, document_matrix):\n",
    "    similar_list = []\n",
    "    for i in range(len(documents)):\n",
    "        sim = cosine_similarity(document_matrix[i:i+1], document_matrix)[0]\n",
    "        print(sim)\n",
    "        print()\n",
    "        "
   ]
  },
  {
   "cell_type": "code",
   "execution_count": 64,
   "metadata": {},
   "outputs": [
    {
     "name": "stdout",
     "output_type": "stream",
     "text": [
      "[1.         0.         0.         0.         0.36899732 0.\n",
      " 0.         0.2849837  0.         0.         0.         0.\n",
      " 0.        ]\n",
      "\n",
      "[0.         1.         0.         0.         0.         0.\n",
      " 0.         0.72528433 0.16559202 0.         0.         0.\n",
      " 0.        ]\n",
      "\n",
      "[0.         0.         1.         0.         0.         0.20001211\n",
      " 0.1292429  0.         0.1197898  0.         0.         0.10854054\n",
      " 0.22438284]\n",
      "\n",
      "[0. 0. 0. 1. 0. 0. 0. 0. 0. 0. 0. 0. 0.]\n",
      "\n",
      "[0.36899732 0.         0.         0.         1.         0.\n",
      " 0.         0.2849837  0.         0.         0.         0.\n",
      " 0.        ]\n",
      "\n",
      "[0.         0.         0.20001211 0.         0.         1.\n",
      " 0.11520553 0.         0.10677916 0.         0.         0.0967517\n",
      " 0.20001211]\n",
      "\n",
      "[0.         0.         0.1292429  0.         0.         0.11520553\n",
      " 1.         0.         0.         0.         0.         0.13798683\n",
      " 0.1292429 ]\n",
      "\n",
      "[0.2849837  0.72528433 0.         0.         0.2849837  0.\n",
      " 0.         1.         0.17806187 0.         0.         0.\n",
      " 0.        ]\n",
      "\n",
      "[0.         0.16559202 0.1197898  0.         0.         0.10677916\n",
      " 0.         0.17806187 1.         0.         0.         0.\n",
      " 0.1197898 ]\n",
      "\n",
      "[0. 0. 0. 0. 0. 0. 0. 0. 0. 1. 0. 0. 0.]\n",
      "\n",
      "[0. 0. 0. 0. 0. 0. 0. 0. 0. 0. 1. 0. 0.]\n",
      "\n",
      "[0.         0.         0.10854054 0.         0.         0.0967517\n",
      " 0.13798683 0.         0.         0.         0.         1.\n",
      " 0.10854054]\n",
      "\n",
      "[0.         0.         0.22438284 0.         0.         0.20001211\n",
      " 0.1292429  0.         0.1197898  0.         0.         0.10854054\n",
      " 1.        ]\n",
      "\n"
     ]
    }
   ],
   "source": [
    "find_similar(documents, tf_idf_matrix)"
   ]
  },
  {
   "cell_type": "code",
   "execution_count": null,
   "metadata": {},
   "outputs": [],
   "source": []
  }
 ],
 "metadata": {
  "kernelspec": {
   "display_name": "Python 3",
   "language": "python",
   "name": "python3"
  },
  "language_info": {
   "codemirror_mode": {
    "name": "ipython",
    "version": 3
   },
   "file_extension": ".py",
   "mimetype": "text/x-python",
   "name": "python",
   "nbconvert_exporter": "python",
   "pygments_lexer": "ipython3",
   "version": "3.7.0"
  }
 },
 "nbformat": 4,
 "nbformat_minor": 2
}
