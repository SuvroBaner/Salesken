{
 "cells": [
  {
   "cell_type": "markdown",
   "metadata": {},
   "source": [
    "In this approach, we convert the documents into <a href = \"https://scikit-learn.org/stable/modules/generated/sklearn.feature_extraction.text.TfidfVectorizer.html\">TF-IDF</a> feature representations. <br>\n",
    "**This is a naive approach, which will not be as accurate as deep learning approaches**"
   ]
  },
  {
   "cell_type": "code",
   "execution_count": 1,
   "metadata": {},
   "outputs": [],
   "source": [
    "from sklearn.feature_extraction.text import TfidfVectorizer\n",
    "from sklearn.metrics.pairwise import cosine_similarity\n",
    "import numpy as np"
   ]
  },
  {
   "cell_type": "code",
   "execution_count": 2,
   "metadata": {},
   "outputs": [],
   "source": [
    "with open('../list_of_sentences', 'r+') as f:\n",
    "    documents = f.readlines()"
   ]
  },
  {
   "cell_type": "code",
   "execution_count": 3,
   "metadata": {},
   "outputs": [],
   "source": [
    "for i in range(len(documents)):\n",
    "    documents[i] = documents[i][:-1]"
   ]
  },
  {
   "cell_type": "code",
   "execution_count": 4,
   "metadata": {},
   "outputs": [
    {
     "data": {
      "text/plain": [
       "['good morning',\n",
       " 'how are you doing ?',\n",
       " 'the weather is awesome today',\n",
       " 'samsung',\n",
       " 'good afternoon',\n",
       " 'baseball is played in the USA',\n",
       " 'there is a thunderstorm ',\n",
       " 'are you doing good ?',\n",
       " 'The polar regions are melting\"',\n",
       " 'apple',\n",
       " 'nokia',\n",
       " 'cricket is a fun game',\n",
       " 'the climate change is a problem']"
      ]
     },
     "execution_count": 4,
     "metadata": {},
     "output_type": "execute_result"
    }
   ],
   "source": [
    "documents"
   ]
  },
  {
   "cell_type": "code",
   "execution_count": 5,
   "metadata": {},
   "outputs": [
    {
     "data": {
      "text/plain": [
       "13"
      ]
     },
     "execution_count": 5,
     "metadata": {},
     "output_type": "execute_result"
    }
   ],
   "source": [
    "len(documents)"
   ]
  },
  {
   "cell_type": "code",
   "execution_count": 6,
   "metadata": {},
   "outputs": [],
   "source": [
    "tf_idf = TfidfVectorizer()\n",
    "tf_idf_matrix = tf_idf.fit_transform(documents)"
   ]
  },
  {
   "cell_type": "code",
   "execution_count": 7,
   "metadata": {
    "scrolled": true
   },
   "outputs": [
    {
     "data": {
      "text/plain": [
       "(13, 30)"
      ]
     },
     "execution_count": 7,
     "metadata": {},
     "output_type": "execute_result"
    }
   ],
   "source": [
    "tf_idf_matrix.shape"
   ]
  },
  {
   "cell_type": "code",
   "execution_count": 111,
   "metadata": {},
   "outputs": [
    {
     "data": {
      "text/plain": [
       "scipy.sparse.csr.csr_matrix"
      ]
     },
     "execution_count": 111,
     "metadata": {},
     "output_type": "execute_result"
    }
   ],
   "source": [
    "type(tf_idf_matrix)"
   ]
  },
  {
   "cell_type": "code",
   "execution_count": 112,
   "metadata": {},
   "outputs": [],
   "source": [
    "def find_similar(documents, document_matrix):\n",
    "    similar_list = []\n",
    "    for i in range(len(documents)):\n",
    "        sim = cosine_similarity(document_matrix[i:i+1], document_matrix)[0]\n",
    "#         print(sim)\n",
    "        indexes = np.argwhere(np.logical_and(sim>0, sim<1))\n",
    "        idx_sim_pairs = {}\n",
    "        for idx in indexes:\n",
    "            idx_sim_pairs[int(idx)] = sim[idx]\n",
    "        idx_sim_pairs = {k: v for k, v in sorted(idx_sim_pairs.items(), key=lambda item: item[1], reverse=True)}\n",
    "#         print(idx_sim_pairs)\n",
    "        sim_sentences = [documents[i]]\n",
    "        sim_sentences.extend([documents[i] for i in list(idx_sim_pairs.keys())[:2]])\n",
    "        similar_list.append(sim_sentences)\n",
    "        \n",
    "#     print(similar_list)\n",
    "    return similar_list"
   ]
  },
  {
   "cell_type": "code",
   "execution_count": 113,
   "metadata": {},
   "outputs": [
    {
     "data": {
      "text/plain": [
       "[['good morning', 'good afternoon', 'are you doing good ?'],\n",
       " ['how are you doing ?',\n",
       "  'are you doing good ?',\n",
       "  'The polar regions are melting\"'],\n",
       " ['the weather is awesome today',\n",
       "  'the climate change is a problem',\n",
       "  'baseball is played in the USA'],\n",
       " ['samsung'],\n",
       " ['good afternoon', 'good morning', 'are you doing good ?'],\n",
       " ['baseball is played in the USA',\n",
       "  'the weather is awesome today',\n",
       "  'the climate change is a problem'],\n",
       " ['there is a thunderstorm ',\n",
       "  'cricket is a fun game',\n",
       "  'the weather is awesome today'],\n",
       " ['are you doing good ?', 'how are you doing ?', 'good morning'],\n",
       " ['The polar regions are melting\"',\n",
       "  'are you doing good ?',\n",
       "  'how are you doing ?'],\n",
       " ['apple'],\n",
       " ['nokia'],\n",
       " ['cricket is a fun game',\n",
       "  'there is a thunderstorm ',\n",
       "  'the weather is awesome today'],\n",
       " ['the climate change is a problem',\n",
       "  'the weather is awesome today',\n",
       "  'baseball is played in the USA']]"
      ]
     },
     "execution_count": 113,
     "metadata": {},
     "output_type": "execute_result"
    }
   ],
   "source": [
    "find_similar(documents, tf_idf_matrix)"
   ]
  },
  {
   "cell_type": "markdown",
   "metadata": {},
   "source": [
    "Here we see that, TF-IDF approach is somewhat able to group some sentences but not performing well in case where there is no common words <br>\n",
    "\n",
    "Eg: ['cricket is a fun game',\n",
    "  'there is a thunderstorm ',\n",
    "  'the weather is awesome today']\n",
    "  \n",
    "  SInce Tf-IDF computes document similarty in word-count space, it is not that effective when we do not have common words in documents\n"
   ]
  },
  {
   "cell_type": "code",
   "execution_count": null,
   "metadata": {},
   "outputs": [],
   "source": []
  }
 ],
 "metadata": {
  "kernelspec": {
   "display_name": "Python 3",
   "language": "python",
   "name": "python3"
  },
  "language_info": {
   "codemirror_mode": {
    "name": "ipython",
    "version": 3
   },
   "file_extension": ".py",
   "mimetype": "text/x-python",
   "name": "python",
   "nbconvert_exporter": "python",
   "pygments_lexer": "ipython3",
   "version": "3.7.1"
  }
 },
 "nbformat": 4,
 "nbformat_minor": 2
}
