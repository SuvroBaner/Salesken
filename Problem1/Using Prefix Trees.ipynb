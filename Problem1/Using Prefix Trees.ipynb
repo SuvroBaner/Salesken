{
 "cells": [
  {
   "cell_type": "code",
   "execution_count": null,
   "metadata": {},
   "outputs": [],
   "source": [
    "import pandas as pd\n",
    "from tqdm import tqdm_notebook as tqdm\n",
    "from networkx import prefix_tree as trie"
   ]
  },
  {
   "cell_type": "code",
   "execution_count": null,
   "metadata": {},
   "outputs": [],
   "source": [
    "strings = ['ab', 'abs', 'ad']\n",
    "T, root = trie(strings)"
   ]
  },
  {
   "cell_type": "code",
   "execution_count": null,
   "metadata": {},
   "outputs": [],
   "source": [
    "T.successors"
   ]
  },
  {
   "cell_type": "code",
   "execution_count": null,
   "metadata": {},
   "outputs": [],
   "source": []
  },
  {
   "cell_type": "code",
   "execution_count": null,
   "metadata": {},
   "outputs": [],
   "source": []
  },
  {
   "cell_type": "code",
   "execution_count": null,
   "metadata": {},
   "outputs": [],
   "source": []
  },
  {
   "cell_type": "code",
   "execution_count": 1,
   "metadata": {},
   "outputs": [],
   "source": [
    "import pandas as pd\n",
    "import re\n",
    "from collections import Counter"
   ]
  },
  {
   "cell_type": "code",
   "execution_count": 2,
   "metadata": {},
   "outputs": [],
   "source": [
    "correct_df = pd.read_csv('./Correct_cities.csv')\n",
    "incorrect_df = pd.read_csv('./Misspelt_cities.csv')"
   ]
  },
  {
   "cell_type": "code",
   "execution_count": 4,
   "metadata": {},
   "outputs": [],
   "source": [
    "unique_letters = []\n",
    "for word in correct_df['name']:\n",
    "    letters = list(word)\n",
    "    for l in letters:\n",
    "        if l not in unique_letters:\n",
    "            unique_letters.append(l)\n",
    "for word in incorrect_df['misspelt_name']:\n",
    "    letters = list(word)\n",
    "    for l in letters:\n",
    "        if l not in unique_letters:\n",
    "            unique_letters.append(l)"
   ]
  },
  {
   "cell_type": "code",
   "execution_count": 5,
   "metadata": {},
   "outputs": [
    {
     "data": {
      "text/plain": [
       "[' ',\n",
       " \"'\",\n",
       " '(',\n",
       " ')',\n",
       " ',',\n",
       " '-',\n",
       " '.',\n",
       " '/',\n",
       " '0',\n",
       " '1',\n",
       " '2',\n",
       " '3',\n",
       " '4',\n",
       " '5',\n",
       " '6',\n",
       " '7',\n",
       " '8',\n",
       " '9',\n",
       " 'A',\n",
       " 'B',\n",
       " 'C',\n",
       " 'D',\n",
       " 'E',\n",
       " 'F',\n",
       " 'G',\n",
       " 'H',\n",
       " 'I',\n",
       " 'J',\n",
       " 'K',\n",
       " 'L',\n",
       " 'M',\n",
       " 'N',\n",
       " 'O',\n",
       " 'P',\n",
       " 'Q',\n",
       " 'R',\n",
       " 'S',\n",
       " 'T',\n",
       " 'U',\n",
       " 'V',\n",
       " 'W',\n",
       " 'X',\n",
       " 'Y',\n",
       " 'Z',\n",
       " 'a',\n",
       " 'b',\n",
       " 'c',\n",
       " 'd',\n",
       " 'e',\n",
       " 'f',\n",
       " 'g',\n",
       " 'h',\n",
       " 'i',\n",
       " 'j',\n",
       " 'k',\n",
       " 'l',\n",
       " 'm',\n",
       " 'n',\n",
       " 'o',\n",
       " 'p',\n",
       " 'q',\n",
       " 'r',\n",
       " 's',\n",
       " 't',\n",
       " 'u',\n",
       " 'v',\n",
       " 'w',\n",
       " 'x',\n",
       " 'y',\n",
       " 'z',\n",
       " 'Á',\n",
       " 'Â',\n",
       " 'Ä',\n",
       " 'Å',\n",
       " 'Ç',\n",
       " 'É',\n",
       " 'Í',\n",
       " 'Î',\n",
       " 'Ð',\n",
       " 'Ó',\n",
       " 'Ö',\n",
       " 'Ú',\n",
       " 'Ü',\n",
       " 'ß',\n",
       " 'à',\n",
       " 'á',\n",
       " 'â',\n",
       " 'ã',\n",
       " 'ä',\n",
       " 'å',\n",
       " 'æ',\n",
       " 'ç',\n",
       " 'è',\n",
       " 'é',\n",
       " 'ê',\n",
       " 'ë',\n",
       " 'ì',\n",
       " 'í',\n",
       " 'î',\n",
       " 'ï',\n",
       " 'ð',\n",
       " 'ñ',\n",
       " 'ò',\n",
       " 'ó',\n",
       " 'ô',\n",
       " 'õ',\n",
       " 'ö',\n",
       " 'ø',\n",
       " 'ù',\n",
       " 'ú',\n",
       " 'û',\n",
       " 'ü',\n",
       " 'ý',\n",
       " 'ÿ',\n",
       " 'Ā',\n",
       " 'ā',\n",
       " 'ă',\n",
       " 'ą',\n",
       " 'Ć',\n",
       " 'ć',\n",
       " 'Č',\n",
       " 'č',\n",
       " 'ď',\n",
       " 'Đ',\n",
       " 'đ',\n",
       " 'ē',\n",
       " 'ė',\n",
       " 'ę',\n",
       " 'ě',\n",
       " 'ğ',\n",
       " 'ĩ',\n",
       " 'Ī',\n",
       " 'ī',\n",
       " 'ĭ',\n",
       " 'İ',\n",
       " 'ı',\n",
       " 'Ľ',\n",
       " 'ľ',\n",
       " 'Ł',\n",
       " 'ł',\n",
       " 'ń',\n",
       " 'ň',\n",
       " 'Ō',\n",
       " 'ō',\n",
       " 'ŏ',\n",
       " 'ő',\n",
       " 'œ',\n",
       " 'ř',\n",
       " 'Ś',\n",
       " 'ś',\n",
       " 'Ş',\n",
       " 'ş',\n",
       " 'Š',\n",
       " 'š',\n",
       " 'Ţ',\n",
       " 'ţ',\n",
       " 'ť',\n",
       " 'ũ',\n",
       " 'Ū',\n",
       " 'ū',\n",
       " 'Ŭ',\n",
       " 'ŭ',\n",
       " 'ů',\n",
       " 'ź',\n",
       " 'Ż',\n",
       " 'ż',\n",
       " 'Ž',\n",
       " 'ž',\n",
       " 'Ə',\n",
       " 'ơ',\n",
       " 'ư',\n",
       " 'ș',\n",
       " 'ț',\n",
       " 'ə',\n",
       " '̄',\n",
       " '̇',\n",
       " '̧',\n",
       " '̱',\n",
       " 'Б',\n",
       " 'Ж',\n",
       " 'З',\n",
       " 'К',\n",
       " 'Л',\n",
       " 'Н',\n",
       " 'П',\n",
       " 'Р',\n",
       " 'С',\n",
       " 'Т',\n",
       " 'а',\n",
       " 'в',\n",
       " 'г',\n",
       " 'д',\n",
       " 'е',\n",
       " 'ж',\n",
       " 'и',\n",
       " 'к',\n",
       " 'л',\n",
       " 'м',\n",
       " 'н',\n",
       " 'о',\n",
       " 'п',\n",
       " 'р',\n",
       " 'с',\n",
       " 'т',\n",
       " 'у',\n",
       " 'ц',\n",
       " 'ч',\n",
       " 'ш',\n",
       " 'ј',\n",
       " 'Ḏ',\n",
       " 'ḏ',\n",
       " 'Ḑ',\n",
       " 'ḑ',\n",
       " 'ḥ',\n",
       " 'Ḩ',\n",
       " 'ḩ',\n",
       " 'ḯ',\n",
       " 'Ṭ',\n",
       " 'ṭ',\n",
       " 'Ẕ',\n",
       " 'ẕ',\n",
       " 'ẖ',\n",
       " 'ạ',\n",
       " 'ả',\n",
       " 'ầ',\n",
       " 'ẩ',\n",
       " 'ắ',\n",
       " 'ằ',\n",
       " 'ế',\n",
       " 'ệ',\n",
       " 'ỉ',\n",
       " 'ị',\n",
       " 'ố',\n",
       " 'ộ',\n",
       " 'ờ',\n",
       " 'ủ',\n",
       " 'ỳ',\n",
       " 'ỹ',\n",
       " '‘',\n",
       " '’']"
      ]
     },
     "execution_count": 5,
     "metadata": {},
     "output_type": "execute_result"
    }
   ],
   "source": [
    "sorted(unique_letters)"
   ]
  },
  {
   "cell_type": "code",
   "execution_count": 6,
   "metadata": {},
   "outputs": [
    {
     "data": {
      "text/plain": [
       "('0123456789ABCDEFGHIJKLMNOPQRSTUVWXYZabcdefghijklmnopqrstuvwxyzÁÂÄÅÇÉÍÎÐÓÖÚÜßàáâãäåæçèéêëìíîïðñòóôõöøùúûüýÿĀāăąĆćČčďĐđēėęěğĩĪīĭİıĽľŁłńňŌōŏőœřŚśŞşŠšŢţťũŪūŬŭůźŻżŽžƏơưșțə̧̱̄̇БЖЗКЛНПРСТавгдежиклмнопрстуцчшјḎḏḐḑḥḨḩḯṬṭẔẕẖạảầẩắằếệỉịốộờủỳỹ',\n",
       " 230)"
      ]
     },
     "execution_count": 6,
     "metadata": {},
     "output_type": "execute_result"
    }
   ],
   "source": [
    "possible_letters = ''.join(sorted(unique_letters))[8:-2]\n",
    "possible_letters, len(possible_letters)"
   ]
  },
  {
   "cell_type": "code",
   "execution_count": 7,
   "metadata": {},
   "outputs": [],
   "source": [
    "correct_words_list = []\n",
    "for word in correct_df['name']:\n",
    "    correct_words_list.append(str(word))"
   ]
  },
  {
   "cell_type": "code",
   "execution_count": 13,
   "metadata": {},
   "outputs": [],
   "source": [
    "\n",
    "# def words(text): return re.findall(r'\\w+', text.lower())\n",
    "\n",
    "WORDS = Counter(correct_words_list)\n",
    "\n",
    "def P(word, N=sum(WORDS.values())): \n",
    "    \"Probability of `word`.\"\n",
    "    return WORDS[word] / N\n",
    "\n",
    "def correction(word): \n",
    "    \"Most probable spelling correction for word.\"\n",
    "    return max(candidates(word), key=P)\n",
    "\n",
    "def candidates(word): \n",
    "    \"Generate possible spelling corrections for word.\"\n",
    "    return (known([word]) or known(edits1(word)) or known(edits2(word)) or known(edits3(word)) or [word])\n",
    "\n",
    "def known(words): \n",
    "    \"The subset of `words` that appear in the dictionary of WORDS.\"\n",
    "    return set(w for w in words if w in WORDS)\n",
    "\n",
    "def edits1(word):\n",
    "    \"All edits that are one edit away from `word`.\"\n",
    "    letters    = 'abcdefghijklmnopqrstuvwxyzABCDEFGHIJKLMNOPQRSTUVWXYZ'\n",
    "    splits     = [(word[:i], word[i:])    for i in range(len(word) + 1)]\n",
    "#     print(splits)\n",
    "#     deletes    = [L + R[1:]               for L, R in splits if R]\n",
    "#     print(deletes)\n",
    "#     transposes = [L + R[1] + R[0] + R[2:] for L, R in splits if len(R)>1]\n",
    "#     print(transposes)\n",
    "    replaces   = [L + c + R[1:]           for L, R in splits if R for c in letters]\n",
    "#     print(replaces)\n",
    "#     inserts    = [L + c + R               for L, R in splits for c in letters]\n",
    "#     print(inserts, len(inserts))\n",
    "#     return set(deletes + transposes + replaces + inserts)\n",
    "    return set(replaces)\n",
    "\n",
    "def edits2(word): \n",
    "    \"All edits that are two edits away from `word`.\"\n",
    "    return (e2 for e1 in edits1(word) for e2 in edits1(e1))\n",
    "def edits3(word):\n",
    "    return (e3 for e1 in edits1(word) for e2 in edits1(e1) for e3 in edits1(e2))"
   ]
  },
  {
   "cell_type": "code",
   "execution_count": 14,
   "metadata": {},
   "outputs": [
    {
     "data": {
      "text/plain": [
       "'Bendaluria'"
      ]
     },
     "execution_count": 14,
     "metadata": {},
     "output_type": "execute_result"
    }
   ],
   "source": [
    "correction('Bendaluria')"
   ]
  },
  {
   "cell_type": "code",
   "execution_count": null,
   "metadata": {},
   "outputs": [],
   "source": []
  },
  {
   "cell_type": "code",
   "execution_count": null,
   "metadata": {},
   "outputs": [],
   "source": [
    "sum(WORDS.values())"
   ]
  },
  {
   "cell_type": "code",
   "execution_count": null,
   "metadata": {},
   "outputs": [],
   "source": [
    "words = ['bengaluru', 'bangalore', 'bengaluru']\n",
    "set(w for w in words if w in WORDS)"
   ]
  },
  {
   "cell_type": "code",
   "execution_count": null,
   "metadata": {},
   "outputs": [],
   "source": [
    "correction('hfjdúszoposzló')"
   ]
  },
  {
   "cell_type": "code",
   "execution_count": null,
   "metadata": {},
   "outputs": [],
   "source": [
    "'Hfjdúszoposzló'.upper()"
   ]
  },
  {
   "cell_type": "code",
   "execution_count": null,
   "metadata": {},
   "outputs": [],
   "source": [
    "incorrect_df.head()"
   ]
  },
  {
   "cell_type": "code",
   "execution_count": null,
   "metadata": {},
   "outputs": [],
   "source": [
    "correction('hfjdúszoposzló')"
   ]
  },
  {
   "cell_type": "code",
   "execution_count": null,
   "metadata": {},
   "outputs": [],
   "source": []
  }
 ],
 "metadata": {
  "kernelspec": {
   "display_name": "Python 3",
   "language": "python",
   "name": "python3"
  },
  "language_info": {
   "codemirror_mode": {
    "name": "ipython",
    "version": 3
   },
   "file_extension": ".py",
   "mimetype": "text/x-python",
   "name": "python",
   "nbconvert_exporter": "python",
   "pygments_lexer": "ipython3",
   "version": "3.7.1"
  }
 },
 "nbformat": 4,
 "nbformat_minor": 2
}
